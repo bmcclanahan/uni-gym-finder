{
 "cells": [
  {
   "cell_type": "code",
   "execution_count": 1,
   "metadata": {},
   "outputs": [],
   "source": [
    "import os\n",
    "import tweepy\n",
    "\n",
    "access_token = os.environ['TWITTER_API_KEY']\n",
    "access_token_secret = os.environ['TWITTER_API_SECRET']\n",
    "bearer_token = os.environ['TWITTER_API_BEARER_TOKEN']\n",
    "\n",
    "client = tweepy.Client(\n",
    "    access_token=access_token, access_token_secret=access_token_secret,\n",
    "    bearer_token=bearer_token, wait_on_rate_limit=True\n",
    ")"
   ]
  },
  {
   "cell_type": "code",
   "execution_count": 2,
   "metadata": {},
   "outputs": [],
   "source": [
    "tweets_response = client.search_recent_tweets(\n",
    "    'from:TheRocketCrypto', \n",
    "    tweet_fields=[\n",
    "        'entities', 'created_at', 'referenced_tweets', 'author_id',\n",
    "        'public_metrics'\n",
    "    ]\n",
    ")"
   ]
  },
  {
   "cell_type": "code",
   "execution_count": null,
   "metadata": {},
   "outputs": [],
   "source": [
    "tweets_response.data"
   ]
  },
  {
   "cell_type": "code",
   "execution_count": null,
   "metadata": {},
   "outputs": [],
   "source": [
    "tweets_response.data[5].entities"
   ]
  },
  {
   "cell_type": "code",
   "execution_count": null,
   "metadata": {},
   "outputs": [],
   "source": [
    "type(tweets_response.data[0].author_id)"
   ]
  },
  {
   "cell_type": "code",
   "execution_count": null,
   "metadata": {},
   "outputs": [],
   "source": [
    "tweets_response.data[0].created_at"
   ]
  },
  {
   "cell_type": "code",
   "execution_count": null,
   "metadata": {},
   "outputs": [],
   "source": [
    "tweets_response.data[4].entities"
   ]
  },
  {
   "cell_type": "code",
   "execution_count": null,
   "metadata": {},
   "outputs": [],
   "source": [
    "tweets_response.data[0].referenced_tweets[0]"
   ]
  },
  {
   "cell_type": "code",
   "execution_count": 3,
   "metadata": {},
   "outputs": [],
   "source": [
    "user_fields = ['description', 'entities', 'public_metrics', 'url']\n",
    "seed_accounts = ['TheRocketCrypto', 'skankhuntt_42', '1goonrich', 'AltCryptoGems']\n",
    "seed_user_info = [client.get_user(username=user, user_fields=user_fields).data for user in seed_accounts]"
   ]
  },
  {
   "cell_type": "code",
   "execution_count": 4,
   "metadata": {},
   "outputs": [],
   "source": [
    "import pandas as pd\n",
    "\n",
    "def tabelize_user_info(user_info):\n",
    "    data = []\n",
    "    for user in user_info:\n",
    "        entity_urls = ''\n",
    "        cash_tags = ''\n",
    "        description_urls = ''\n",
    "        if user.entities is not None:\n",
    "            if 'url' in user.entities:\n",
    "                entity_urls = ','.join([url['expanded_url'] for url in user.entities['url']['urls']])\n",
    "            if 'description' in user.entities:\n",
    "                if 'urls' in user.entities['description']:\n",
    "                    description_urls = ','.join([url['expanded_url'] for url in user.entities['description']['urls']])\n",
    "                if 'cashtags' in user.entities['description']:\n",
    "                    cash_tags = ','.join([cashtag['tag'] for cashtag in user.entities['description']['cashtags']])\n",
    "        public_metrics = user.public_metrics\n",
    "        data.append(\n",
    "            [\n",
    "                user.id, user.username, user.description,\n",
    "                public_metrics['followers_count'], public_metrics['following_count'],\n",
    "                public_metrics['tweet_count'], public_metrics['listed_count'],\n",
    "                entity_urls, description_urls, cash_tags\n",
    "            ]\n",
    "        )\n",
    "    return pd.DataFrame(\n",
    "        data, \n",
    "        columns=[\n",
    "            'user_id', 'user_name', 'description',\n",
    "            'followers_count', 'following_count',\n",
    "            'tweet_count', 'listed_count',\n",
    "            'entity_urls', 'description_urls', 'cash_tags']\n",
    "    )"
   ]
  },
  {
   "cell_type": "code",
   "execution_count": 5,
   "metadata": {},
   "outputs": [],
   "source": [
    "seed_user_data = tabelize_user_info(seed_user_info)"
   ]
  },
  {
   "cell_type": "code",
   "execution_count": 6,
   "metadata": {},
   "outputs": [],
   "source": [
    "user_set = set([seed_user_data.loc[index].user_id for index in seed_user_data.index])\n",
    "user_list = seed_user_info\n",
    "def get_following(user_id, level, top_n=10, max_level=3):\n",
    "    following = client.get_users_following(user_id, user_fields=user_fields, max_results=1000).data\n",
    "    if following is not None:\n",
    "        following = [x for x in following if x.id not in user_set]\n",
    "        top = list(reversed(sorted(following, key=lambda x: x.public_metrics['followers_count'])))[:top_n]\n",
    "        user_set.update([x.id for x in top])\n",
    "        user_list.extend(top)\n",
    "        level += 1\n",
    "        if level <= max_level:\n",
    "            for user in top:\n",
    "                get_following(user.id, level, top_n=top_n, max_level=max_level)\n",
    "        "
   ]
  },
  {
   "cell_type": "code",
   "execution_count": null,
   "metadata": {},
   "outputs": [
    {
     "name": "stderr",
     "output_type": "stream",
     "text": [
      "Rate limit exceeded. Sleeping for 224 seconds.\n"
     ]
    }
   ],
   "source": [
    "for index in seed_user_data.index:\n",
    "    get_following(seed_user_data.loc[index].user_id, 0, max_level=3)"
   ]
  },
  {
   "cell_type": "code",
   "execution_count": null,
   "metadata": {},
   "outputs": [],
   "source": [
    "len(user_list)"
   ]
  },
  {
   "cell_type": "code",
   "execution_count": null,
   "metadata": {},
   "outputs": [],
   "source": [
    "user_df = tabelize_user_info(user_list)"
   ]
  },
  {
   "cell_type": "code",
   "execution_count": null,
   "metadata": {},
   "outputs": [],
   "source": [
    "user_df.to_parquet('crypto_accounts.parquet')"
   ]
  },
  {
   "cell_type": "code",
   "execution_count": null,
   "metadata": {},
   "outputs": [],
   "source": []
  }
 ],
 "metadata": {
  "kernelspec": {
   "display_name": "Python 3",
   "language": "python",
   "name": "python3"
  },
  "language_info": {
   "codemirror_mode": {
    "name": "ipython",
    "version": 3
   },
   "file_extension": ".py",
   "mimetype": "text/x-python",
   "name": "python",
   "nbconvert_exporter": "python",
   "pygments_lexer": "ipython3",
   "version": "3.7.6"
  }
 },
 "nbformat": 4,
 "nbformat_minor": 4
}
